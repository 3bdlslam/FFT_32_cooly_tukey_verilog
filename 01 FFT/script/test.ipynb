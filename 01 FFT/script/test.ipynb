{
 "metadata": {
  "language_info": {
   "codemirror_mode": {
    "name": "ipython",
    "version": 3
   },
   "file_extension": ".py",
   "mimetype": "text/x-python",
   "name": "python",
   "nbconvert_exporter": "python",
   "pygments_lexer": "ipython3",
   "version": "3.8.5"
  },
  "orig_nbformat": 2,
  "kernelspec": {
   "name": "python385jvsc74a57bd0bbaff3bad43e72ef86a08724e2a04c1dc7b916dad0faa2935f126c230f07c1b0",
   "display_name": "Python 3.8.5 64-bit ('base': conda)"
  }
 },
 "nbformat": 4,
 "nbformat_minor": 2,
 "cells": [
  {
   "cell_type": "code",
   "execution_count": 22,
   "metadata": {},
   "outputs": [],
   "source": [
    "from FFT import *\n",
    "import numpy as np\n",
    "from fxpmath import Fxp\n",
    "from test import *\n",
    "from FFT import *"
   ]
  },
  {
   "cell_type": "code",
   "execution_count": 12,
   "metadata": {},
   "outputs": [],
   "source": [
    "INT=4\n",
    "DEC=4\n",
    "N=32"
   ]
  },
  {
   "cell_type": "code",
   "execution_count": 2,
   "metadata": {},
   "outputs": [
    {
     "output_type": "execute_result",
     "data": {
      "text/plain": [
       "[5, 4, 3, 2, 1, 0]"
      ]
     },
     "metadata": {},
     "execution_count": 2
    }
   ],
   "source": [
    "list(range(5,-1,-1))"
   ]
  },
  {
   "cell_type": "code",
   "execution_count": 3,
   "metadata": {},
   "outputs": [],
   "source": [
    "d=[(-0.5625-0.375j), (-0.625-0.75j), (-0.1875-0.875j), (0.5-0.1875j), (0.4375-0.375j), (0.125+0.3125j), (-1-0.8125j), (-0.25+0.3125j), (-1+0.3125j), (-0.125+1j), (-0.8125+0.8125j), (0.8125+0.3125j), (-0.25+0.6875j), (0.6875-0.125j), (-0.125+0.375j), (0.0625-0.5625j), (-0.5625-1j), (-0.6875+0.6875j), (-0.625+0.875j), (0.875+0.6875j), (0.6875-0.1875j), (-0.0625-0.3125j), (0.3125-0.375j), (1-0.4375j), (-0.1875+0.9375j), (0.125-0.6875j), (-0.8125+0.75j), (1-0.6875j), (-1-0.9375j), (-0.875+0.625j), (0.9375+0.75j), (-0.75-0.5j)]"
   ]
  },
  {
   "cell_type": "code",
   "execution_count": 10,
   "metadata": {},
   "outputs": [
    {
     "output_type": "execute_result",
     "data": {
      "text/plain": [
       "array([-2.9375    +0.25j      , -0.3786983 -1.41060671j,\n",
       "       -3.59690366-4.54454419j, -1.8792037 -2.37677335j,\n",
       "       -2.86059704+0.77512627j, -5.61923074+1.59226423j,\n",
       "       -4.04125952-2.25403862j, -0.61186205+2.0432972j ,\n",
       "        1.6875    +2.25j      , -1.95498776-0.76011201j,\n",
       "        1.64824256-4.43109772j, -0.14738943+2.09779712j,\n",
       "       -0.01180105-2.14016504j, -1.40698234+0.26551374j,\n",
       "        8.11570104+0.60598832j,  5.82430958-1.54453904j,\n",
       "       -6.5625    +0.875j     , -0.80480292+0.99542377j,\n",
       "        0.88719497-3.42252382j,  6.51010789+3.87973415j,\n",
       "        1.73559704+5.72487373j, -3.46219721+4.83190995j,\n",
       "       -3.9591869 +1.66565027j, -5.67169233+1.55243771j,\n",
       "       -1.9375    -7.125j     ,  1.87592584+0.38455723j,\n",
       "        0.06146614-7.60183428j,  4.91077636-0.63844732j,\n",
       "       -7.61319895-1.60983496j,  6.75097342+5.60104982j,\n",
       "        1.38474538-1.01759998j, -3.93504631-6.51350647j])"
      ]
     },
     "metadata": {},
     "execution_count": 10
    }
   ],
   "source": [
    "\n",
    "t1"
   ]
  },
  {
   "cell_type": "code",
   "execution_count": 14,
   "metadata": {},
   "outputs": [
    {
     "output_type": "execute_result",
     "data": {
      "text/plain": [
       "'0xFA'"
      ]
     },
     "metadata": {},
     "execution_count": 14
    }
   ],
   "source": [
    "Fxp(-0.3786983, True, INT+DEC, DEC).hex()"
   ]
  },
  {
   "cell_type": "code",
   "execution_count": 37,
   "metadata": {},
   "outputs": [
    {
     "output_type": "execute_result",
     "data": {
      "text/plain": [
       "'0202020202020202020202020202020202020202020202020202020202020202'"
      ]
     },
     "metadata": {},
     "execution_count": 37
    }
   ],
   "source": [
    "imag=''.join([str(0) for i in range(1,65)])\n",
    "real=''.join([str((i%2)*2) for i in range(64)])\n",
    "real"
   ]
  },
  {
   "cell_type": "code",
   "execution_count": 38,
   "metadata": {},
   "outputs": [
    {
     "output_type": "error",
     "ename": "SyntaxError",
     "evalue": "invalid syntax (<ipython-input-38-b8aeecc63e5a>, line 1)",
     "traceback": [
      "\u001b[1;36m  File \u001b[1;32m\"<ipython-input-38-b8aeecc63e5a>\"\u001b[1;36m, line \u001b[1;32m1\u001b[0m\n\u001b[1;33m    t1=\u001b[0m\n\u001b[1;37m       ^\u001b[0m\n\u001b[1;31mSyntaxError\u001b[0m\u001b[1;31m:\u001b[0m invalid syntax\n"
     ]
    }
   ],
   "source": [
    "t1="
   ]
  },
  {
   "cell_type": "code",
   "execution_count": 39,
   "metadata": {},
   "outputs": [
    {
     "output_type": "execute_result",
     "data": {
      "text/plain": [
       "[(0.125+0j),\n",
       " (0.125+0j),\n",
       " (0.125+0j),\n",
       " (0.125+0j),\n",
       " (0.125+0j),\n",
       " (0.125+0j),\n",
       " (0.125+0j),\n",
       " (0.125+0j),\n",
       " (0.125+0j),\n",
       " (0.125+0j),\n",
       " (0.125+0j),\n",
       " (0.125+0j),\n",
       " (0.125+0j),\n",
       " (0.125+0j),\n",
       " (0.125+0j),\n",
       " (0.125+0j),\n",
       " (0.125+0j),\n",
       " (0.125+0j),\n",
       " (0.125+0j),\n",
       " (0.125+0j),\n",
       " (0.125+0j),\n",
       " (0.125+0j),\n",
       " (0.125+0j),\n",
       " (0.125+0j),\n",
       " (0.125+0j),\n",
       " (0.125+0j),\n",
       " (0.125+0j),\n",
       " (0.125+0j),\n",
       " (0.125+0j),\n",
       " (0.125+0j),\n",
       " (0.125+0j),\n",
       " (0.125+0j)]"
      ]
     },
     "metadata": {},
     "execution_count": 39
    }
   ],
   "source": [
    "t=Hex2List([real,imag],INT=4,DEC=4)\n",
    "t"
   ]
  },
  {
   "cell_type": "code",
   "execution_count": 40,
   "metadata": {},
   "outputs": [
    {
     "output_type": "execute_result",
     "data": {
      "text/plain": [
       "array([4.+0.j, 0.+0.j, 0.+0.j, 0.+0.j, 0.+0.j, 0.+0.j, 0.+0.j, 0.+0.j,\n",
       "       0.+0.j, 0.+0.j, 0.+0.j, 0.+0.j, 0.+0.j, 0.+0.j, 0.+0.j, 0.+0.j,\n",
       "       0.+0.j, 0.+0.j, 0.+0.j, 0.+0.j, 0.+0.j, 0.+0.j, 0.+0.j, 0.+0.j,\n",
       "       0.+0.j, 0.+0.j, 0.+0.j, 0.+0.j, 0.+0.j, 0.+0.j, 0.+0.j, 0.+0.j])"
      ]
     },
     "metadata": {},
     "execution_count": 40
    }
   ],
   "source": [
    "np.fft.fft(t)"
   ]
  },
  {
   "cell_type": "code",
   "execution_count": null,
   "metadata": {},
   "outputs": [],
   "source": []
  }
 ]
}