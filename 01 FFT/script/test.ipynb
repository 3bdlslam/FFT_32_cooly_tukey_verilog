{
 "metadata": {
  "language_info": {
   "codemirror_mode": {
    "name": "ipython",
    "version": 3
   },
   "file_extension": ".py",
   "mimetype": "text/x-python",
   "name": "python",
   "nbconvert_exporter": "python",
   "pygments_lexer": "ipython3",
   "version": "3.8.5"
  },
  "orig_nbformat": 2,
  "kernelspec": {
   "name": "python385jvsc74a57bd0bbaff3bad43e72ef86a08724e2a04c1dc7b916dad0faa2935f126c230f07c1b0",
   "display_name": "Python 3.8.5 64-bit ('base': conda)"
  }
 },
 "nbformat": 4,
 "nbformat_minor": 2,
 "cells": [
  {
   "cell_type": "code",
   "execution_count": 14,
   "metadata": {},
   "outputs": [],
   "source": [
    "from FFT import *\n",
    "import numpy as np\n",
    "from fxpmath import Fxp\n",
    "from test import *\n",
    "from FFT import *\n",
    "from math import *"
   ]
  },
  {
   "cell_type": "code",
   "execution_count": 2,
   "metadata": {},
   "outputs": [
    {
     "output_type": "execute_result",
     "data": {
      "text/plain": [
       "5.0"
      ]
     },
     "metadata": {},
     "execution_count": 2
    }
   ],
   "source": [
    "log2(32)"
   ]
  },
  {
   "cell_type": "code",
   "execution_count": 2,
   "metadata": {},
   "outputs": [],
   "source": [
    "INT=4\n",
    "DEC=4\n",
    "N=32"
   ]
  },
  {
   "cell_type": "code",
   "execution_count": 2,
   "metadata": {},
   "outputs": [
    {
     "output_type": "execute_result",
     "data": {
      "text/plain": [
       "[5, 4, 3, 2, 1, 0]"
      ]
     },
     "metadata": {},
     "execution_count": 2
    }
   ],
   "source": [
    "list(range(5,-1,-1))"
   ]
  },
  {
   "cell_type": "code",
   "execution_count": 3,
   "metadata": {},
   "outputs": [],
   "source": [
    "d=[(-0.5625-0.375j), (-0.625-0.75j), (-0.1875-0.875j), (0.5-0.1875j), (0.4375-0.375j), (0.125+0.3125j), (-1-0.8125j), (-0.25+0.3125j), (-1+0.3125j), (-0.125+1j), (-0.8125+0.8125j), (0.8125+0.3125j), (-0.25+0.6875j), (0.6875-0.125j), (-0.125+0.375j), (0.0625-0.5625j), (-0.5625-1j), (-0.6875+0.6875j), (-0.625+0.875j), (0.875+0.6875j), (0.6875-0.1875j), (-0.0625-0.3125j), (0.3125-0.375j), (1-0.4375j), (-0.1875+0.9375j), (0.125-0.6875j), (-0.8125+0.75j), (1-0.6875j), (-1-0.9375j), (-0.875+0.625j), (0.9375+0.75j), (-0.75-0.5j)]"
   ]
  },
  {
   "cell_type": "code",
   "execution_count": 10,
   "metadata": {},
   "outputs": [
    {
     "output_type": "execute_result",
     "data": {
      "text/plain": [
       "array([-2.9375    +0.25j      , -0.3786983 -1.41060671j,\n",
       "       -3.59690366-4.54454419j, -1.8792037 -2.37677335j,\n",
       "       -2.86059704+0.77512627j, -5.61923074+1.59226423j,\n",
       "       -4.04125952-2.25403862j, -0.61186205+2.0432972j ,\n",
       "        1.6875    +2.25j      , -1.95498776-0.76011201j,\n",
       "        1.64824256-4.43109772j, -0.14738943+2.09779712j,\n",
       "       -0.01180105-2.14016504j, -1.40698234+0.26551374j,\n",
       "        8.11570104+0.60598832j,  5.82430958-1.54453904j,\n",
       "       -6.5625    +0.875j     , -0.80480292+0.99542377j,\n",
       "        0.88719497-3.42252382j,  6.51010789+3.87973415j,\n",
       "        1.73559704+5.72487373j, -3.46219721+4.83190995j,\n",
       "       -3.9591869 +1.66565027j, -5.67169233+1.55243771j,\n",
       "       -1.9375    -7.125j     ,  1.87592584+0.38455723j,\n",
       "        0.06146614-7.60183428j,  4.91077636-0.63844732j,\n",
       "       -7.61319895-1.60983496j,  6.75097342+5.60104982j,\n",
       "        1.38474538-1.01759998j, -3.93504631-6.51350647j])"
      ]
     },
     "metadata": {},
     "execution_count": 10
    }
   ],
   "source": [
    "\n",
    "t1"
   ]
  },
  {
   "cell_type": "code",
   "execution_count": 7,
   "metadata": {},
   "outputs": [
    {
     "output_type": "execute_result",
     "data": {
      "text/plain": [
       "'0x3E'"
      ]
     },
     "metadata": {},
     "execution_count": 7
    }
   ],
   "source": [
    "Fxp('0b111110',True).hex()"
   ]
  },
  {
   "cell_type": "code",
   "execution_count": 37,
   "metadata": {},
   "outputs": [
    {
     "output_type": "execute_result",
     "data": {
      "text/plain": [
       "'0202020202020202020202020202020202020202020202020202020202020202'"
      ]
     },
     "metadata": {},
     "execution_count": 37
    }
   ],
   "source": [
    "imag=''.join([str(0) for i in range(1,65)])\n",
    "real=''.join([str((i%2)*2) for i in range(64)])\n",
    "real"
   ]
  },
  {
   "cell_type": "code",
   "execution_count": 38,
   "metadata": {},
   "outputs": [
    {
     "output_type": "error",
     "ename": "SyntaxError",
     "evalue": "invalid syntax (<ipython-input-38-b8aeecc63e5a>, line 1)",
     "traceback": [
      "\u001b[1;36m  File \u001b[1;32m\"<ipython-input-38-b8aeecc63e5a>\"\u001b[1;36m, line \u001b[1;32m1\u001b[0m\n\u001b[1;33m    t1=\u001b[0m\n\u001b[1;37m       ^\u001b[0m\n\u001b[1;31mSyntaxError\u001b[0m\u001b[1;31m:\u001b[0m invalid syntax\n"
     ]
    }
   ],
   "source": [
    "t1="
   ]
  },
  {
   "cell_type": "code",
   "execution_count": 39,
   "metadata": {},
   "outputs": [
    {
     "output_type": "execute_result",
     "data": {
      "text/plain": [
       "[(0.125+0j),\n",
       " (0.125+0j),\n",
       " (0.125+0j),\n",
       " (0.125+0j),\n",
       " (0.125+0j),\n",
       " (0.125+0j),\n",
       " (0.125+0j),\n",
       " (0.125+0j),\n",
       " (0.125+0j),\n",
       " (0.125+0j),\n",
       " (0.125+0j),\n",
       " (0.125+0j),\n",
       " (0.125+0j),\n",
       " (0.125+0j),\n",
       " (0.125+0j),\n",
       " (0.125+0j),\n",
       " (0.125+0j),\n",
       " (0.125+0j),\n",
       " (0.125+0j),\n",
       " (0.125+0j),\n",
       " (0.125+0j),\n",
       " (0.125+0j),\n",
       " (0.125+0j),\n",
       " (0.125+0j),\n",
       " (0.125+0j),\n",
       " (0.125+0j),\n",
       " (0.125+0j),\n",
       " (0.125+0j),\n",
       " (0.125+0j),\n",
       " (0.125+0j),\n",
       " (0.125+0j),\n",
       " (0.125+0j)]"
      ]
     },
     "metadata": {},
     "execution_count": 39
    }
   ],
   "source": [
    "t=Hex2List([real,imag],INT=4,DEC=4)\n",
    "t"
   ]
  },
  {
   "cell_type": "code",
   "execution_count": 40,
   "metadata": {},
   "outputs": [
    {
     "output_type": "execute_result",
     "data": {
      "text/plain": [
       "array([4.+0.j, 0.+0.j, 0.+0.j, 0.+0.j, 0.+0.j, 0.+0.j, 0.+0.j, 0.+0.j,\n",
       "       0.+0.j, 0.+0.j, 0.+0.j, 0.+0.j, 0.+0.j, 0.+0.j, 0.+0.j, 0.+0.j,\n",
       "       0.+0.j, 0.+0.j, 0.+0.j, 0.+0.j, 0.+0.j, 0.+0.j, 0.+0.j, 0.+0.j,\n",
       "       0.+0.j, 0.+0.j, 0.+0.j, 0.+0.j, 0.+0.j, 0.+0.j, 0.+0.j, 0.+0.j])"
      ]
     },
     "metadata": {},
     "execution_count": 40
    }
   ],
   "source": [
    "np.fft.fft(t)"
   ]
  },
  {
   "cell_type": "code",
   "execution_count": 24,
   "metadata": {},
   "outputs": [
    {
     "output_type": "stream",
     "name": "stdout",
     "text": [
      "5'b00000:begin  assign out_r=real_output[out_addr][7:0];\n                assign out_r=imag_output[out_addr][7:0];end\n5'b00001:begin  assign out_r=real_output[out_addr][15:8];\n                assign out_r=imag_output[out_addr][15:8];end\n5'b00010:begin  assign out_r=real_output[out_addr][23:16];\n                assign out_r=imag_output[out_addr][23:16];end\n5'b00011:begin  assign out_r=real_output[out_addr][31:24];\n                assign out_r=imag_output[out_addr][31:24];end\n5'b00100:begin  assign out_r=real_output[out_addr][39:32];\n                assign out_r=imag_output[out_addr][39:32];end\n5'b00101:begin  assign out_r=real_output[out_addr][47:40];\n                assign out_r=imag_output[out_addr][47:40];end\n5'b00110:begin  assign out_r=real_output[out_addr][55:48];\n                assign out_r=imag_output[out_addr][55:48];end\n5'b00111:begin  assign out_r=real_output[out_addr][63:56];\n                assign out_r=imag_output[out_addr][63:56];end\n5'b01000:begin  assign out_r=real_output[out_addr][71:64];\n                assign out_r=imag_output[out_addr][71:64];end\n5'b01001:begin  assign out_r=real_output[out_addr][79:72];\n                assign out_r=imag_output[out_addr][79:72];end\n5'b01010:begin  assign out_r=real_output[out_addr][87:80];\n                assign out_r=imag_output[out_addr][87:80];end\n5'b01011:begin  assign out_r=real_output[out_addr][95:88];\n                assign out_r=imag_output[out_addr][95:88];end\n5'b01100:begin  assign out_r=real_output[out_addr][103:96];\n                assign out_r=imag_output[out_addr][103:96];end\n5'b01101:begin  assign out_r=real_output[out_addr][111:104];\n                assign out_r=imag_output[out_addr][111:104];end\n5'b01110:begin  assign out_r=real_output[out_addr][119:112];\n                assign out_r=imag_output[out_addr][119:112];end\n5'b01111:begin  assign out_r=real_output[out_addr][127:120];\n                assign out_r=imag_output[out_addr][127:120];end\n5'b10000:begin  assign out_r=real_output[out_addr][135:128];\n                assign out_r=imag_output[out_addr][135:128];end\n5'b10001:begin  assign out_r=real_output[out_addr][143:136];\n                assign out_r=imag_output[out_addr][143:136];end\n5'b10010:begin  assign out_r=real_output[out_addr][151:144];\n                assign out_r=imag_output[out_addr][151:144];end\n5'b10011:begin  assign out_r=real_output[out_addr][159:152];\n                assign out_r=imag_output[out_addr][159:152];end\n5'b10100:begin  assign out_r=real_output[out_addr][167:160];\n                assign out_r=imag_output[out_addr][167:160];end\n5'b10101:begin  assign out_r=real_output[out_addr][175:168];\n                assign out_r=imag_output[out_addr][175:168];end\n5'b10110:begin  assign out_r=real_output[out_addr][183:176];\n                assign out_r=imag_output[out_addr][183:176];end\n5'b10111:begin  assign out_r=real_output[out_addr][191:184];\n                assign out_r=imag_output[out_addr][191:184];end\n5'b11000:begin  assign out_r=real_output[out_addr][199:192];\n                assign out_r=imag_output[out_addr][199:192];end\n5'b11001:begin  assign out_r=real_output[out_addr][207:200];\n                assign out_r=imag_output[out_addr][207:200];end\n5'b11010:begin  assign out_r=real_output[out_addr][215:208];\n                assign out_r=imag_output[out_addr][215:208];end\n5'b11011:begin  assign out_r=real_output[out_addr][223:216];\n                assign out_r=imag_output[out_addr][223:216];end\n5'b11100:begin  assign out_r=real_output[out_addr][231:224];\n                assign out_r=imag_output[out_addr][231:224];end\n5'b11101:begin  assign out_r=real_output[out_addr][239:232];\n                assign out_r=imag_output[out_addr][239:232];end\n5'b11110:begin  assign out_r=real_output[out_addr][247:240];\n                assign out_r=imag_output[out_addr][247:240];end\n5'b11111:begin  assign out_r=real_output[out_addr][255:248];\n                assign out_r=imag_output[out_addr][255:248];end\n"
     ]
    }
   ],
   "source": [
    "for i in range(32):\n",
    "    \n",
    "    b=Fxp(i,False,5,0).bin()\n",
    "    print(f\"\"\"5'b{b}:begin   out_r<=real_output[out_addr][{i*8+7}:{i*8}];\n",
    "                 out_r<=imag_output[out_addr][{i*8+7}:{i*8}];end\"\"\")\n",
    "    "
   ]
  },
  {
   "cell_type": "code",
   "execution_count": null,
   "metadata": {},
   "outputs": [],
   "source": []
  }
 ]
}