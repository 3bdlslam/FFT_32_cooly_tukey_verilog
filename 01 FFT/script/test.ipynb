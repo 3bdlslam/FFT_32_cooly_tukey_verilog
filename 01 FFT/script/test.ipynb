{
 "metadata": {
  "language_info": {
   "codemirror_mode": {
    "name": "ipython",
    "version": 3
   },
   "file_extension": ".py",
   "mimetype": "text/x-python",
   "name": "python",
   "nbconvert_exporter": "python",
   "pygments_lexer": "ipython3",
   "version": "3.8.5"
  },
  "orig_nbformat": 2,
  "kernelspec": {
   "name": "python385jvsc74a57bd0bbaff3bad43e72ef86a08724e2a04c1dc7b916dad0faa2935f126c230f07c1b0",
   "display_name": "Python 3.8.5 64-bit ('base': conda)"
  }
 },
 "nbformat": 4,
 "nbformat_minor": 2,
 "cells": [
  {
   "cell_type": "code",
   "execution_count": 1,
   "metadata": {},
   "outputs": [],
   "source": [
    "from FFT import *\n",
    "import numpy as np\n",
    "from fxpmath import Fxp\n",
    "from test import *\n",
    "from FFT import *"
   ]
  },
  {
   "cell_type": "code",
   "execution_count": 2,
   "metadata": {},
   "outputs": [],
   "source": [
    "INT=4\n",
    "DEC=4\n",
    "N=32"
   ]
  },
  {
   "cell_type": "code",
   "execution_count": 4,
   "metadata": {},
   "outputs": [],
   "source": [
    "d=RandomBinary(N=40,m=8,INT=INT,DEC=DEC,Th=1)\n"
   ]
  },
  {
   "cell_type": "code",
   "execution_count": 11,
   "metadata": {},
   "outputs": [
    {
     "output_type": "execute_result",
     "data": {
      "text/plain": [
       "array([[[ 0.25  , -0.125 ],\n",
       "        [-0.625 ,  0.375 ],\n",
       "        [-0.625 ,  0.    ],\n",
       "        [-0.3125, -0.5   ],\n",
       "        [ 0.5   ,  0.125 ],\n",
       "        [ 0.625 , -0.125 ],\n",
       "        [ 0.3125,  0.1875],\n",
       "        [-1.    ,  0.6875],\n",
       "        [-0.0625, -0.4375],\n",
       "        [ 0.    ,  0.6875],\n",
       "        [ 0.4375, -0.375 ],\n",
       "        [ 0.1875, -0.0625],\n",
       "        [-0.625 ,  0.0625],\n",
       "        [-0.75  , -0.75  ],\n",
       "        [-0.1875, -0.6875],\n",
       "        [-0.125 , -0.5   ],\n",
       "        [-0.375 ,  0.625 ],\n",
       "        [ 0.4375, -0.9375],\n",
       "        [ 0.0625, -0.0625],\n",
       "        [ 0.1875, -1.    ],\n",
       "        [ 0.3125, -0.3125],\n",
       "        [ 0.9375, -0.875 ],\n",
       "        [-0.875 , -0.75  ],\n",
       "        [ 0.0625, -0.125 ],\n",
       "        [ 0.875 , -0.75  ],\n",
       "        [ 0.4375,  0.4375],\n",
       "        [ 0.125 , -0.8125],\n",
       "        [ 0.75  ,  0.5   ],\n",
       "        [-0.125 , -0.5   ],\n",
       "        [-0.9375,  0.9375],\n",
       "        [-0.875 , -0.9375],\n",
       "        [ 1.    , -0.4375]]])"
      ]
     },
     "metadata": {},
     "execution_count": 11
    }
   ],
   "source": [
    "c=1\n",
    "d=RandomBinary(N=2*N*c,m=INT+DEC,INT=INT, DEC=DEC, Th=1).reshape([c,N,2])\n",
    "shape=d.shape\n",
    "d=d.ravel()\n",
    "\n",
    "d=np.array(list(map(float,  Fxp(list('0b'+d), True, INT+DEC, DEC)()  )) ) \n",
    "d=d.reshape(shape)\n",
    "d\n"
   ]
  },
  {
   "cell_type": "code",
   "execution_count": null,
   "metadata": {},
   "outputs": [],
   "source": [
    "\n",
    "\n",
    "shape=d.shape\n",
    "d=d.ravel()\n",
    "d=np.array(map(float,  Fxp(list('0b'+d), True, INT+DEC, DEC)()  ))\n",
    "d=d.reshape(shape)"
   ]
  },
  {
   "cell_type": "code",
   "execution_count": 4,
   "metadata": {},
   "outputs": [],
   "source": [
    "a=FilterBinary2Dec_Hex(RandomBinary(N=40,m=8),INT=4,DEC=4)"
   ]
  },
  {
   "cell_type": "code",
   "execution_count": 5,
   "metadata": {},
   "outputs": [
    {
     "output_type": "execute_result",
     "data": {
      "text/plain": [
       "[0, 4]"
      ]
     },
     "metadata": {},
     "execution_count": 5
    }
   ],
   "source": [
    "[i for i in range(5) if i>3 or i<1]"
   ]
  },
  {
   "cell_type": "code",
   "execution_count": 6,
   "metadata": {},
   "outputs": [
    {
     "output_type": "error",
     "ename": "TypeError",
     "evalue": "'int' object is not iterable",
     "traceback": [
      "\u001b[1;31m---------------------------------------------------------------------------\u001b[0m",
      "\u001b[1;31mTypeError\u001b[0m                                 Traceback (most recent call last)",
      "\u001b[1;32m<ipython-input-6-0e873bf6d22e>\u001b[0m in \u001b[0;36m<module>\u001b[1;34m\u001b[0m\n\u001b[1;32m----> 1\u001b[1;33m \u001b[1;33m[\u001b[0m\u001b[1;33m*\u001b[0m\u001b[1;36m1\u001b[0m\u001b[1;33m,\u001b[0m\u001b[1;36m2\u001b[0m\u001b[1;33m,\u001b[0m\u001b[1;36m3\u001b[0m\u001b[1;33m]\u001b[0m\u001b[1;33m\u001b[0m\u001b[1;33m\u001b[0m\u001b[0m\n\u001b[0m",
      "\u001b[1;31mTypeError\u001b[0m: 'int' object is not iterable"
     ]
    }
   ],
   "source": [
    "[*1,2,3]"
   ]
  },
  {
   "cell_type": "code",
   "execution_count": 11,
   "metadata": {},
   "outputs": [
    {
     "output_type": "execute_result",
     "data": {
      "text/plain": [
       "[1, 2, 5, 3, 4, 5]"
      ]
     },
     "metadata": {},
     "execution_count": 11
    }
   ],
   "source": [
    "[*[1,2,*[5],3],4,5]"
   ]
  },
  {
   "cell_type": "code",
   "execution_count": 29,
   "metadata": {},
   "outputs": [
    {
     "output_type": "execute_result",
     "data": {
      "text/plain": [
       "[array([1, 4]), array([2, 5]), array([3, 6])]"
      ]
     },
     "metadata": {},
     "execution_count": 29
    }
   ],
   "source": [
    "[*np.array(([1,2,3],[4,5,6])).T ]"
   ]
  },
  {
   "cell_type": "code",
   "execution_count": 35,
   "metadata": {},
   "outputs": [
    {
     "output_type": "execute_result",
     "data": {
      "text/plain": [
       "array([1, 2, 3, 4, 5, 6])"
      ]
     },
     "metadata": {},
     "execution_count": 35
    }
   ],
   "source": [
    "np.array([*np.array([1,2,3]) , *np.array([4,5,6])])"
   ]
  },
  {
   "cell_type": "code",
   "execution_count": 46,
   "metadata": {},
   "outputs": [
    {
     "output_type": "execute_result",
     "data": {
      "text/plain": [
       "[(1, 4), (2, 5), (3, 6)]"
      ]
     },
     "metadata": {},
     "execution_count": 46
    }
   ],
   "source": [
    "[*list(zip([1,2,3],[4,5,6]))]"
   ]
  },
  {
   "cell_type": "code",
   "execution_count": 50,
   "metadata": {},
   "outputs": [
    {
     "output_type": "execute_result",
     "data": {
      "text/plain": [
       "array([[1, 4],\n",
       "       [2, 5],\n",
       "       [3, 6]])"
      ]
     },
     "metadata": {},
     "execution_count": 50
    }
   ],
   "source": [
    "np.array([[1,2,3],[4,5,6]]).T.T.T"
   ]
  },
  {
   "cell_type": "code",
   "execution_count": 25,
   "metadata": {},
   "outputs": [
    {
     "output_type": "execute_result",
     "data": {
      "text/plain": [
       "array(['osamaasd', 'osamadfgre'], dtype=object)"
      ]
     },
     "metadata": {},
     "execution_count": 25
    }
   ],
   "source": [
    "['osama']+np.array(['asd','dfgre'],dtype=object)"
   ]
  },
  {
   "cell_type": "code",
   "execution_count": null,
   "metadata": {},
   "outputs": [],
   "source": []
  }
 ]
}