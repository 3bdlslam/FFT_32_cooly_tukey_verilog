{
 "metadata": {
  "language_info": {
   "codemirror_mode": {
    "name": "ipython",
    "version": 3
   },
   "file_extension": ".py",
   "mimetype": "text/x-python",
   "name": "python",
   "nbconvert_exporter": "python",
   "pygments_lexer": "ipython3",
   "version": "3.8.5"
  },
  "orig_nbformat": 2,
  "kernelspec": {
   "name": "python385jvsc74a57bd0bbaff3bad43e72ef86a08724e2a04c1dc7b916dad0faa2935f126c230f07c1b0",
   "display_name": "Python 3.8.5 64-bit ('base': conda)"
  }
 },
 "nbformat": 4,
 "nbformat_minor": 2,
 "cells": [
  {
   "cell_type": "code",
   "execution_count": 1,
   "metadata": {},
   "outputs": [],
   "source": [
    "from SW import *\n",
    "import numpy as np\n",
    "from fxpmath import Fxp\n",
    "import itertools\n",
    "N=4\n",
    "INT=4\n",
    "DEC=4\n",
    "MAC=2\n",
    "S=4\n",
    "#S=S*N*2\n",
    "Th=8\n",
    "\n",
    "Layers=int(log2(N))\n",
    "Bits=DEC+INT\n",
    "Size=N*Bits\n",
    "SelCounts=int(N*Layers/2/MAC)\n",
    "TotSize=N*Layers#N*L\n"
   ]
  },
  {
   "cell_type": "code",
   "execution_count": 2,
   "metadata": {},
   "outputs": [
    {
     "output_type": "execute_result",
     "data": {
      "text/plain": [
       "[array([\"32'h53_79_34_01\", \"32'h33_21_5C_3C\", \"32'h1D_65_58_17\",\n",
       "        \"32'h67_46_2E_54\"], dtype='<U15'),\n",
       " array([\"32'h40_54_06_5C\", \"32'h77_0D_7F_75\", \"32'h6E_77_4C_10\",\n",
       "        \"32'h7C_3A_3A_14\"], dtype='<U15'),\n",
       " array([[5.1875+4.j    , 7.5625+5.25j  , 3.25  +0.375j , 0.0625+5.75j  ],\n",
       "        [3.1875+7.4375j, 2.0625+0.8125j, 5.75  +7.9375j, 3.75  +7.3125j],\n",
       "        [1.8125+6.875j , 6.3125+7.4375j, 5.5   +4.75j  , 1.4375+1.j    ],\n",
       "        [6.4375+7.75j  , 4.375 +3.625j , 2.875 +3.625j , 5.25  +1.25j  ]])]"
      ]
     },
     "metadata": {},
     "execution_count": 2
    }
   ],
   "source": [
    "RandomBinary(S,N,INT,DEC,Th)"
   ]
  },
  {
   "cell_type": "code",
   "execution_count": 4,
   "metadata": {},
   "outputs": [
    {
     "output_type": "execute_result",
     "data": {
      "text/plain": [
       "array([[0.39685455],\n",
       "       [0.07769206],\n",
       "       [0.07464769],\n",
       "       [0.89634761],\n",
       "       [0.22941009]])"
      ]
     },
     "metadata": {},
     "execution_count": 4
    }
   ],
   "source": []
  },
  {
   "cell_type": "code",
   "execution_count": 3,
   "metadata": {},
   "outputs": [
    {
     "output_type": "execute_result",
     "data": {
      "text/plain": [
       "'00010000'"
      ]
     },
     "metadata": {},
     "execution_count": 3
    }
   ],
   "source": [
    "Fxp(1,True,8,4).bin()"
   ]
  },
  {
   "cell_type": "code",
   "execution_count": null,
   "metadata": {},
   "outputs": [],
   "source": []
  },
  {
   "cell_type": "code",
   "execution_count": 53,
   "metadata": {},
   "outputs": [
    {
     "output_type": "error",
     "ename": "TypeError",
     "evalue": "only size-1 arrays can be converted to Python scalars",
     "traceback": [
      "\u001b[1;31m---------------------------------------------------------------------------\u001b[0m",
      "\u001b[1;31mTypeError\u001b[0m                                 Traceback (most recent call last)",
      "\u001b[1;32m<ipython-input-53-f035005464e1>\u001b[0m in \u001b[0;36m<module>\u001b[1;34m\u001b[0m\n\u001b[1;32m----> 1\u001b[1;33m \u001b[0mFxp\u001b[0m\u001b[1;33m(\u001b[0m\u001b[0mnp\u001b[0m\u001b[1;33m.\u001b[0m\u001b[0mexp\u001b[0m\u001b[1;33m(\u001b[0m\u001b[1;33m-\u001b[0m\u001b[1;36m2j\u001b[0m\u001b[1;33m*\u001b[0m\u001b[0mnp\u001b[0m\u001b[1;33m.\u001b[0m\u001b[0mpi\u001b[0m\u001b[1;33m*\u001b[0m\u001b[0mn\u001b[0m\u001b[1;33m/\u001b[0m\u001b[0mk\u001b[0m\u001b[1;33m)\u001b[0m\u001b[1;33m,\u001b[0m\u001b[1;32mTrue\u001b[0m\u001b[1;33m,\u001b[0m\u001b[1;36m8\u001b[0m\u001b[1;33m,\u001b[0m\u001b[1;36m4\u001b[0m\u001b[1;33m)\u001b[0m\u001b[1;33m.\u001b[0m\u001b[0mbin\u001b[0m\u001b[1;33m(\u001b[0m\u001b[1;33m)\u001b[0m\u001b[1;33m\u001b[0m\u001b[1;33m\u001b[0m\u001b[0m\n\u001b[0m",
      "\u001b[1;32m~\\anaconda3\\lib\\site-packages\\fxpmath\\objects.py\u001b[0m in \u001b[0;36mbin\u001b[1;34m(self, frac_dot)\u001b[0m\n\u001b[0;32m   1174\u001b[0m         \u001b[1;32mif\u001b[0m \u001b[0misinstance\u001b[0m\u001b[1;33m(\u001b[0m\u001b[0mself\u001b[0m\u001b[1;33m.\u001b[0m\u001b[0mval\u001b[0m\u001b[1;33m,\u001b[0m \u001b[1;33m(\u001b[0m\u001b[0mlist\u001b[0m\u001b[1;33m,\u001b[0m \u001b[0mnp\u001b[0m\u001b[1;33m.\u001b[0m\u001b[0mndarray\u001b[0m\u001b[1;33m)\u001b[0m\u001b[1;33m)\u001b[0m \u001b[1;32mand\u001b[0m \u001b[0mself\u001b[0m\u001b[1;33m.\u001b[0m\u001b[0mval\u001b[0m\u001b[1;33m.\u001b[0m\u001b[0mndim\u001b[0m \u001b[1;33m>\u001b[0m \u001b[1;36m0\u001b[0m\u001b[1;33m:\u001b[0m\u001b[1;33m\u001b[0m\u001b[1;33m\u001b[0m\u001b[0m\n\u001b[0;32m   1175\u001b[0m             \u001b[1;32mif\u001b[0m \u001b[0mself\u001b[0m\u001b[1;33m.\u001b[0m\u001b[0mvdtype\u001b[0m \u001b[1;33m==\u001b[0m \u001b[0mcomplex\u001b[0m\u001b[1;33m:\u001b[0m\u001b[1;33m\u001b[0m\u001b[1;33m\u001b[0m\u001b[0m\n\u001b[1;32m-> 1176\u001b[1;33m                 \u001b[0mrval\u001b[0m \u001b[1;33m=\u001b[0m \u001b[1;33m[\u001b[0m \u001b[0mutils\u001b[0m\u001b[1;33m.\u001b[0m\u001b[0mbinary_repr\u001b[0m\u001b[1;33m(\u001b[0m\u001b[0mint\u001b[0m\u001b[1;33m(\u001b[0m\u001b[0mval\u001b[0m\u001b[1;33m.\u001b[0m\u001b[0mreal\u001b[0m\u001b[1;33m)\u001b[0m\u001b[1;33m,\u001b[0m \u001b[0mn_word\u001b[0m\u001b[1;33m=\u001b[0m\u001b[0mself\u001b[0m\u001b[1;33m.\u001b[0m\u001b[0mn_word\u001b[0m\u001b[1;33m,\u001b[0m \u001b[0mn_frac\u001b[0m\u001b[1;33m=\u001b[0m\u001b[0mn_frac_dot\u001b[0m\u001b[1;33m)\u001b[0m \u001b[1;33m+\u001b[0m \u001b[1;34m'+'\u001b[0m \u001b[1;33m+\u001b[0m \u001b[0mutils\u001b[0m\u001b[1;33m.\u001b[0m\u001b[0mbinary_repr\u001b[0m\u001b[1;33m(\u001b[0m\u001b[0mint\u001b[0m\u001b[1;33m(\u001b[0m\u001b[0mval\u001b[0m\u001b[1;33m.\u001b[0m\u001b[0mimag\u001b[0m\u001b[1;33m)\u001b[0m\u001b[1;33m,\u001b[0m \u001b[0mn_word\u001b[0m\u001b[1;33m=\u001b[0m\u001b[0mself\u001b[0m\u001b[1;33m.\u001b[0m\u001b[0mn_word\u001b[0m\u001b[1;33m,\u001b[0m \u001b[0mn_frac\u001b[0m\u001b[1;33m=\u001b[0m\u001b[0mn_frac_dot\u001b[0m\u001b[1;33m)\u001b[0m \u001b[1;33m+\u001b[0m \u001b[1;34m'j'\u001b[0m \u001b[1;32mfor\u001b[0m \u001b[0mval\u001b[0m \u001b[1;32min\u001b[0m \u001b[0mself\u001b[0m\u001b[1;33m.\u001b[0m\u001b[0mval\u001b[0m\u001b[1;33m]\u001b[0m\u001b[1;33m\u001b[0m\u001b[1;33m\u001b[0m\u001b[0m\n\u001b[0m\u001b[0;32m   1177\u001b[0m             \u001b[1;32melse\u001b[0m\u001b[1;33m:\u001b[0m\u001b[1;33m\u001b[0m\u001b[1;33m\u001b[0m\u001b[0m\n\u001b[0;32m   1178\u001b[0m                 \u001b[0mrval\u001b[0m \u001b[1;33m=\u001b[0m \u001b[1;33m[\u001b[0m\u001b[0mutils\u001b[0m\u001b[1;33m.\u001b[0m\u001b[0mbinary_repr\u001b[0m\u001b[1;33m(\u001b[0m\u001b[0mint\u001b[0m\u001b[1;33m(\u001b[0m\u001b[0mval\u001b[0m\u001b[1;33m)\u001b[0m\u001b[1;33m,\u001b[0m \u001b[0mn_word\u001b[0m\u001b[1;33m=\u001b[0m\u001b[0mself\u001b[0m\u001b[1;33m.\u001b[0m\u001b[0mn_word\u001b[0m\u001b[1;33m,\u001b[0m \u001b[0mn_frac\u001b[0m\u001b[1;33m=\u001b[0m\u001b[0mn_frac_dot\u001b[0m\u001b[1;33m)\u001b[0m \u001b[1;32mfor\u001b[0m \u001b[0mval\u001b[0m \u001b[1;32min\u001b[0m \u001b[0mself\u001b[0m\u001b[1;33m.\u001b[0m\u001b[0mval\u001b[0m\u001b[1;33m]\u001b[0m\u001b[1;33m\u001b[0m\u001b[1;33m\u001b[0m\u001b[0m\n",
      "\u001b[1;32m~\\anaconda3\\lib\\site-packages\\fxpmath\\objects.py\u001b[0m in \u001b[0;36m<listcomp>\u001b[1;34m(.0)\u001b[0m\n\u001b[0;32m   1174\u001b[0m         \u001b[1;32mif\u001b[0m \u001b[0misinstance\u001b[0m\u001b[1;33m(\u001b[0m\u001b[0mself\u001b[0m\u001b[1;33m.\u001b[0m\u001b[0mval\u001b[0m\u001b[1;33m,\u001b[0m \u001b[1;33m(\u001b[0m\u001b[0mlist\u001b[0m\u001b[1;33m,\u001b[0m \u001b[0mnp\u001b[0m\u001b[1;33m.\u001b[0m\u001b[0mndarray\u001b[0m\u001b[1;33m)\u001b[0m\u001b[1;33m)\u001b[0m \u001b[1;32mand\u001b[0m \u001b[0mself\u001b[0m\u001b[1;33m.\u001b[0m\u001b[0mval\u001b[0m\u001b[1;33m.\u001b[0m\u001b[0mndim\u001b[0m \u001b[1;33m>\u001b[0m \u001b[1;36m0\u001b[0m\u001b[1;33m:\u001b[0m\u001b[1;33m\u001b[0m\u001b[1;33m\u001b[0m\u001b[0m\n\u001b[0;32m   1175\u001b[0m             \u001b[1;32mif\u001b[0m \u001b[0mself\u001b[0m\u001b[1;33m.\u001b[0m\u001b[0mvdtype\u001b[0m \u001b[1;33m==\u001b[0m \u001b[0mcomplex\u001b[0m\u001b[1;33m:\u001b[0m\u001b[1;33m\u001b[0m\u001b[1;33m\u001b[0m\u001b[0m\n\u001b[1;32m-> 1176\u001b[1;33m                 \u001b[0mrval\u001b[0m \u001b[1;33m=\u001b[0m \u001b[1;33m[\u001b[0m \u001b[0mutils\u001b[0m\u001b[1;33m.\u001b[0m\u001b[0mbinary_repr\u001b[0m\u001b[1;33m(\u001b[0m\u001b[0mint\u001b[0m\u001b[1;33m(\u001b[0m\u001b[0mval\u001b[0m\u001b[1;33m.\u001b[0m\u001b[0mreal\u001b[0m\u001b[1;33m)\u001b[0m\u001b[1;33m,\u001b[0m \u001b[0mn_word\u001b[0m\u001b[1;33m=\u001b[0m\u001b[0mself\u001b[0m\u001b[1;33m.\u001b[0m\u001b[0mn_word\u001b[0m\u001b[1;33m,\u001b[0m \u001b[0mn_frac\u001b[0m\u001b[1;33m=\u001b[0m\u001b[0mn_frac_dot\u001b[0m\u001b[1;33m)\u001b[0m \u001b[1;33m+\u001b[0m \u001b[1;34m'+'\u001b[0m \u001b[1;33m+\u001b[0m \u001b[0mutils\u001b[0m\u001b[1;33m.\u001b[0m\u001b[0mbinary_repr\u001b[0m\u001b[1;33m(\u001b[0m\u001b[0mint\u001b[0m\u001b[1;33m(\u001b[0m\u001b[0mval\u001b[0m\u001b[1;33m.\u001b[0m\u001b[0mimag\u001b[0m\u001b[1;33m)\u001b[0m\u001b[1;33m,\u001b[0m \u001b[0mn_word\u001b[0m\u001b[1;33m=\u001b[0m\u001b[0mself\u001b[0m\u001b[1;33m.\u001b[0m\u001b[0mn_word\u001b[0m\u001b[1;33m,\u001b[0m \u001b[0mn_frac\u001b[0m\u001b[1;33m=\u001b[0m\u001b[0mn_frac_dot\u001b[0m\u001b[1;33m)\u001b[0m \u001b[1;33m+\u001b[0m \u001b[1;34m'j'\u001b[0m \u001b[1;32mfor\u001b[0m \u001b[0mval\u001b[0m \u001b[1;32min\u001b[0m \u001b[0mself\u001b[0m\u001b[1;33m.\u001b[0m\u001b[0mval\u001b[0m\u001b[1;33m]\u001b[0m\u001b[1;33m\u001b[0m\u001b[1;33m\u001b[0m\u001b[0m\n\u001b[0m\u001b[0;32m   1177\u001b[0m             \u001b[1;32melse\u001b[0m\u001b[1;33m:\u001b[0m\u001b[1;33m\u001b[0m\u001b[1;33m\u001b[0m\u001b[0m\n\u001b[0;32m   1178\u001b[0m                 \u001b[0mrval\u001b[0m \u001b[1;33m=\u001b[0m \u001b[1;33m[\u001b[0m\u001b[0mutils\u001b[0m\u001b[1;33m.\u001b[0m\u001b[0mbinary_repr\u001b[0m\u001b[1;33m(\u001b[0m\u001b[0mint\u001b[0m\u001b[1;33m(\u001b[0m\u001b[0mval\u001b[0m\u001b[1;33m)\u001b[0m\u001b[1;33m,\u001b[0m \u001b[0mn_word\u001b[0m\u001b[1;33m=\u001b[0m\u001b[0mself\u001b[0m\u001b[1;33m.\u001b[0m\u001b[0mn_word\u001b[0m\u001b[1;33m,\u001b[0m \u001b[0mn_frac\u001b[0m\u001b[1;33m=\u001b[0m\u001b[0mn_frac_dot\u001b[0m\u001b[1;33m)\u001b[0m \u001b[1;32mfor\u001b[0m \u001b[0mval\u001b[0m \u001b[1;32min\u001b[0m \u001b[0mself\u001b[0m\u001b[1;33m.\u001b[0m\u001b[0mval\u001b[0m\u001b[1;33m]\u001b[0m\u001b[1;33m\u001b[0m\u001b[1;33m\u001b[0m\u001b[0m\n",
      "\u001b[1;31mTypeError\u001b[0m: only size-1 arrays can be converted to Python scalars"
     ]
    }
   ],
   "source": [
    "Fxp(np.exp(-2j*np.pi*n/k),True,8,4).bin()"
   ]
  },
  {
   "cell_type": "code",
   "execution_count": 24,
   "metadata": {},
   "outputs": [
    {
     "output_type": "execute_result",
     "data": {
      "text/plain": [
       "(40, 8, 6)"
      ]
     },
     "metadata": {},
     "execution_count": 24
    }
   ],
   "source": [
    "MAC_Indexes(N,MAC).shape"
   ]
  },
  {
   "cell_type": "code",
   "execution_count": 25,
   "metadata": {},
   "outputs": [
    {
     "output_type": "execute_result",
     "data": {
      "text/plain": [
       "array([[\"8'b00010000\", \"8'b00000000\", \"8'b00010000\", \"8'b00000000\"],\n",
       "       [\"8'b00010000\", \"8'b00000000\", \"8'b00010000\", \"8'b00000000\"],\n",
       "       [\"8'b00010000\", \"8'b00000000\", \"8'b00010000\", \"8'b00000000\"],\n",
       "       [\"8'b00010000\", \"8'b00000000\", \"8'b00010000\", \"8'b00000000\"],\n",
       "       [\"8'b00010000\", \"8'b00000000\", \"8'b00010000\", \"8'b00000000\"],\n",
       "       [\"8'b00010000\", \"8'b00000000\", \"8'b00010000\", \"8'b00000000\"],\n",
       "       [\"8'b00010000\", \"8'b00000000\", \"8'b00010000\", \"8'b00000000\"],\n",
       "       [\"8'b00010000\", \"8'b00000000\", \"8'b00010000\", \"8'b00000000\"],\n",
       "       [\"8'b00010000\", \"8'b00000000\", \"8'b11110000\", \"8'b00000000\"],\n",
       "       [\"8'b00010000\", \"8'b00000000\", \"8'b11110000\", \"8'b00000000\"],\n",
       "       [\"8'b00010000\", \"8'b00000000\", \"8'b11110000\", \"8'b00000000\"],\n",
       "       [\"8'b00010000\", \"8'b00000000\", \"8'b11110000\", \"8'b00000000\"],\n",
       "       [\"8'b00010000\", \"8'b00000000\", \"8'b11110000\", \"8'b00000000\"],\n",
       "       [\"8'b00010000\", \"8'b00000000\", \"8'b11110000\", \"8'b00000000\"],\n",
       "       [\"8'b00010000\", \"8'b00000000\", \"8'b11110000\", \"8'b00000000\"],\n",
       "       [\"8'b00010000\", \"8'b00000000\", \"8'b11110000\", \"8'b00000000\"],\n",
       "       [\"8'b00010000\", \"8'b00000000\", \"8'b00000000\", \"8'b11110000\"],\n",
       "       [\"8'b11110000\", \"8'b00000000\", \"8'b00000000\", \"8'b00010000\"],\n",
       "       [\"8'b00010000\", \"8'b00000000\", \"8'b00000000\", \"8'b11110000\"],\n",
       "       [\"8'b11110000\", \"8'b00000000\", \"8'b00000000\", \"8'b00010000\"],\n",
       "       [\"8'b00010000\", \"8'b00000000\", \"8'b00000000\", \"8'b11110000\"],\n",
       "       [\"8'b11110000\", \"8'b00000000\", \"8'b00000000\", \"8'b00010000\"],\n",
       "       [\"8'b00010000\", \"8'b00000000\", \"8'b00000000\", \"8'b11110000\"],\n",
       "       [\"8'b11110000\", \"8'b00000000\", \"8'b00000000\", \"8'b00010000\"],\n",
       "       [\"8'b00010000\", \"8'b00000000\", \"8'b00001011\", \"8'b11110101\"],\n",
       "       [\"8'b00000000\", \"8'b11110000\", \"8'b11110101\", \"8'b11110101\"],\n",
       "       [\"8'b11110000\", \"8'b00000000\", \"8'b11110101\", \"8'b00001011\"],\n",
       "       [\"8'b00000000\", \"8'b00010000\", \"8'b00001011\", \"8'b00001011\"],\n",
       "       [\"8'b00010000\", \"8'b00000000\", \"8'b00001011\", \"8'b11110101\"],\n",
       "       [\"8'b00000000\", \"8'b11110000\", \"8'b11110101\", \"8'b11110101\"],\n",
       "       [\"8'b11110000\", \"8'b00000000\", \"8'b11110101\", \"8'b00001011\"],\n",
       "       [\"8'b00000000\", \"8'b00010000\", \"8'b00001011\", \"8'b00001011\"],\n",
       "       [\"8'b00010000\", \"8'b00000000\", \"8'b00001110\", \"8'b11111010\"],\n",
       "       [\"8'b00001011\", \"8'b11110101\", \"8'b00000110\", \"8'b11110010\"],\n",
       "       [\"8'b00000000\", \"8'b11110000\", \"8'b11111010\", \"8'b11110010\"],\n",
       "       [\"8'b11110101\", \"8'b11110101\", \"8'b11110010\", \"8'b11111010\"],\n",
       "       [\"8'b11110000\", \"8'b00000000\", \"8'b11110010\", \"8'b00000110\"],\n",
       "       [\"8'b11110101\", \"8'b00001011\", \"8'b11111010\", \"8'b00001110\"],\n",
       "       [\"8'b00000000\", \"8'b00010000\", \"8'b00000110\", \"8'b00001110\"],\n",
       "       [\"8'b00001011\", \"8'b00001011\", \"8'b00001110\", \"8'b00000110\"]],\n",
       "      dtype=object)"
      ]
     },
     "metadata": {},
     "execution_count": 25
    }
   ],
   "source": [
    "out=np.zeros([SelCounts,int(TotSize/SelCounts),3],dtype=object)\n",
    "\n",
    "t1=np.repeat(np.arange(MAC),2,axis=0)[None,:] \n",
    "out[:,:,0]=t1\n",
    "\n",
    "t1=np.arange(2)[None,:]\n",
    "t2=np.repeat(t1,TotSize/SelCounts/2,axis=0).reshape([1,-1])\n",
    "out[:,:,1]=t2\n",
    "\n",
    "\n",
    "k=np.array([2**i for i in range(1,int(log2(N)+1))])\n",
    "n=np.array([list(range(i))*int(N/i) for i in k] )[:,0:int(N/2)]\n",
    "k=k[:,None]\n",
    "const=np.exp(-2j*2*np.pi*n/k)\n",
    "\n",
    "ConstBinary=np.array([[ str(Bits)+\"'b\"+Fxp(i.real,True,Bits,DEC).bin(),\n",
    "                        str(Bits)+\"'b\"+Fxp(i.imag,True,Bits,DEC).bin()] \n",
    "for i in const.ravel()]).reshape(-1,int(N/2),2)\n",
    "t1=ConstBinary.reshape([SelCounts,-1])\n",
    "out[:,:,2]=t1\n",
    "out[:,:,2]"
   ]
  },
  {
   "cell_type": "code",
   "execution_count": 26,
   "metadata": {},
   "outputs": [
    {
     "output_type": "execute_result",
     "data": {
      "text/plain": [
       "(5, 16, 1, 2)"
      ]
     },
     "metadata": {},
     "execution_count": 26
    }
   ],
   "source": [
    "def MulConst(n,d,INT,DEC):\n",
    "\n",
    "    c1=cos(2*pi*n/d)\n",
    "    s1=-sin(2*pi*n/d)\n",
    "    \n",
    "    x = Fxp(c1, True, INT+DEC, DEC)      # signed=True, n_word=16, n_frac=8\n",
    "\n",
    "    a1=x.bin(frac_dot=True)\n",
    "    \n",
    "    x = Fxp(s1, True, INT+DEC, DEC)      # signed=True, n_word=16, n_frac=8\n",
    "\n",
    "    a2=x.bin(frac_dot=True)    \n",
    "    return [a1,a2]\n",
    "\n",
    "\n",
    "\n",
    "k=[[[i,2**j] for i in range(int(2**(j-1)))] for j in range(1,int(log2(N)+1))]\n",
    "\n",
    "#L_n_d\n",
    "C=[[MulConst(n=i[0], d=i[1],INT=INT,DEC=DEC) for l,i in enumerate(j)]   for j in k]\n",
    "\n",
    "def m1(e):\n",
    "    def m2(e):\n",
    "        def m3(e):\n",
    "            return e.replace('.','_')\n",
    "        return list(map(m3,e))\n",
    "    return list(map(m2,e))\n",
    "\n",
    "C=list(map(m1,C))\n",
    "\n",
    "def m(a):\n",
    "    return a*int(N/(2*len(a)))\n",
    "MulC=np.array(list(map(lambda a:a*int(N/(2*len(a))),C)))\n",
    "MulC=np.expand_dims(MulC,2)\n",
    "MulC.shape"
   ]
  },
  {
   "cell_type": "code",
   "execution_count": 27,
   "metadata": {},
   "outputs": [],
   "source": [
    "out=np.zeros([SelCounts,TotSize*2])"
   ]
  },
  {
   "cell_type": "code",
   "execution_count": 28,
   "metadata": {},
   "outputs": [],
   "source": [
    "def MAC_Constants(N,INT,DEC):\n",
    "    \"\"\"\n",
    "    N=> size of FFT\n",
    "    INT=> number of integer bits\n",
    "    DEC => number of decimal bits\n",
    "    return => shape=(5, 16, 2) for: 5 layers , 16 Multiplier , (real , imag)\n",
    "    \"\"\"\n",
    "    def MulConst(n,d,INT,DEC):\n",
    "\n",
    "        c1=cos(2*pi*n/d)\n",
    "        s1=-sin(2*pi*n/d)\n",
    "        \n",
    "        x = Fxp(c1, True, INT+DEC, DEC)      # signed=True, n_word=16, n_frac=8\n",
    "\n",
    "        a1=x.bin(frac_dot=True)\n",
    "        \n",
    "        x = Fxp(s1, True, INT+DEC, DEC)      # signed=True, n_word=16, n_frac=8\n",
    "\n",
    "        a2=x.bin(frac_dot=True)    \n",
    "        return [a1,a2]\n",
    "\n",
    "    \n",
    "    \n",
    "    k=[[[i,2**j] for i in range(int(2**(j-1)))] for j in range(1,int(log2(N)+1))]\n",
    "\n",
    "    #L_n_d\n",
    "    C=[[MulConst(n=i[0], d=i[1],INT=INT,DEC=DEC)+[f'{l}_{i[0]}_{i[1]}'] for l,i in enumerate(j)]   for j in k]\n",
    "\n",
    "    def m1(e):\n",
    "        def m2(e):\n",
    "            def m3(e):\n",
    "                return e.replace('.','_')\n",
    "            return list(map(m3,e))\n",
    "        return list(map(m2,e))\n",
    "\n",
    "    C=list(map(m1,C))\n",
    "\n",
    "    def m(a):\n",
    "        return a*int(N/(2*len(a)))\n",
    "    MulC=np.array(list(map(lambda a:a*int(N/(2*len(a))),C)))\n",
    "    MulC=np.expand_dims(MulC,2)\n",
    "    return MulC"
   ]
  },
  {
   "cell_type": "code",
   "execution_count": null,
   "metadata": {},
   "outputs": [],
   "source": []
  }
 ]
}